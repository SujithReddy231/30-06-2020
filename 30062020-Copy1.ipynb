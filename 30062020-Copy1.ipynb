{
 "cells": [
  {
   "cell_type": "code",
   "execution_count": 2,
   "metadata": {},
   "outputs": [
    {
     "name": "stdout",
     "output_type": "stream",
     "text": [
      "achdsdsjvhds\n",
      "dldsvdvdsvdjvds\n",
      "vkjvvj\n",
      "svjvsvdsvkd\n",
      "vskdvnjdsvnds,v\n",
      "svlsld\n"
     ]
    }
   ],
   "source": [
    "#1\n",
    "fh=open(r\"C:\\Users\\mered\\OneDrive\\Desktop\\vdsv.txt\")\n",
    "print(fh.read())\n"
   ]
  },
  {
   "cell_type": "code",
   "execution_count": 3,
   "metadata": {},
   "outputs": [
    {
     "name": "stdout",
     "output_type": "stream",
     "text": [
      "Ener no of lines to be read:3\n",
      "achdsdsjvhds\n",
      "\n",
      "dldsvdvdsvdjvds\n",
      "\n",
      "vkjvvj\n",
      "\n"
     ]
    }
   ],
   "source": [
    "#2\n",
    "fh=open(r\"C:\\Users\\mered\\OneDrive\\Desktop\\vdsv.txt\")\n",
    "n=int(input(\"Ener no of lines to be read:\"))\n",
    "for i in range(n):\n",
    "    print(fh.readline())"
   ]
  },
  {
   "cell_type": "code",
   "execution_count": 4,
   "metadata": {},
   "outputs": [
    {
     "name": "stdout",
     "output_type": "stream",
     "text": [
      "Enter string to be appended:sujith\n",
      "achdsdsjvhds\n",
      "dldsvdvdsvdjvds\n",
      "vkjvvj\n",
      "svjvsvdsvkd\n",
      "vskdvnjdsvnds,v\n",
      "svlsldsujith\n"
     ]
    }
   ],
   "source": [
    "#3\n",
    "fh=open(r\"C:\\Users\\mered\\OneDrive\\Desktop\\vdsv.txt\",\"a\")\n",
    "inpp=input(\"Enter string to be appended:\")\n",
    "fh.write(inpp)\n",
    "fh.close()\n",
    "fh=open(r\"C:\\Users\\mered\\OneDrive\\Desktop\\vdsv.txt\",\"r\")\n",
    "print(fh.read())"
   ]
  },
  {
   "cell_type": "code",
   "execution_count": 6,
   "metadata": {},
   "outputs": [
    {
     "name": "stdout",
     "output_type": "stream",
     "text": [
      "ener n:3\n",
      "['svjvsvdsvkd\\n', 'vskdvnjdsvnds,v\\n', 'svlsldsujith']\n"
     ]
    }
   ],
   "source": [
    "#4\n",
    "fh=open(r\"C:\\Users\\mered\\OneDrive\\Desktop\\vdsv.txt\",\"r\")\n",
    "l1=fh.readlines()\n",
    "m=len(l1)\n",
    "n=int(input(\"ener n:\"))\n",
    "print(l1[(m-n):])"
   ]
  },
  {
   "cell_type": "code",
   "execution_count": 7,
   "metadata": {},
   "outputs": [
    {
     "name": "stdout",
     "output_type": "stream",
     "text": [
      "achdsdsjvhds\n",
      "dldsvdvdsvdjvds\n",
      "vkjvvj\n",
      "svjvsvdsvkd\n",
      "vskdvnjdsvnds,v\n",
      "svlsldsujith\n"
     ]
    }
   ],
   "source": [
    "#5\n",
    "fh=open(r\"C:\\Users\\mered\\OneDrive\\Desktop\\vdsv.txt\",\"r\")\n",
    "str=''\n",
    "for i in fh:\n",
    "    str=str+i\n",
    "print(str)"
   ]
  },
  {
   "cell_type": "code",
   "execution_count": 8,
   "metadata": {},
   "outputs": [
    {
     "name": "stdout",
     "output_type": "stream",
     "text": [
      "['achdsdsjvhds\\n', 'dldsvdvdsvdjvds\\n', 'vkjvvj\\n', 'svjvsvdsvkd\\n', 'vskdvnjdsvnds,v\\n', 'svlsldsujith']\n"
     ]
    }
   ],
   "source": [
    "#6\n",
    "fh=open(r\"C:\\Users\\mered\\OneDrive\\Desktop\\vdsv.txt\",\"r\")\n",
    "l1=[]\n",
    "for i in fh:\n",
    "    l1.append(i)\n",
    "print(l1)"
   ]
  },
  {
   "cell_type": "code",
   "execution_count": 9,
   "metadata": {},
   "outputs": [
    {
     "name": "stdout",
     "output_type": "stream",
     "text": [
      "6\n"
     ]
    }
   ],
   "source": [
    "#7\n",
    "fh=open(r\"C:\\Users\\mered\\OneDrive\\Desktop\\vdsv.txt\",\"r\")\n",
    "l1=[]\n",
    "for i in fh:\n",
    "    l1.append(i)\n",
    "print(len(l1))"
   ]
  },
  {
   "cell_type": "code",
   "execution_count": 10,
   "metadata": {},
   "outputs": [
    {
     "name": "stdout",
     "output_type": "stream",
     "text": [
      "76\n"
     ]
    }
   ],
   "source": [
    "#9\n",
    "fh=open(r\"C:\\Users\\mered\\OneDrive\\Desktop\\vdsv.txt\",\"r\")\n",
    "str=fh.read()\n",
    "print(len(str))"
   ]
  },
  {
   "cell_type": "code",
   "execution_count": 11,
   "metadata": {
    "scrolled": true
   },
   "outputs": [
    {
     "name": "stdout",
     "output_type": "stream",
     "text": [
      "achdsdsjvhds\n",
      "dldsvdvdsvdjvds\n",
      "vkjvvj\n",
      "svjvsvdsvkd\n",
      "vskdvnjdsvnds,v\n",
      "svlsldsujithrrrrrrrrrrrrrrrrrr\n",
      "rrrrrrrrrrrrrrrrrrrrrrrrrrrrrrrr\n",
      "rrrrrrrrrrrrrrrrrrrrrrrrrrrrrrrrrrrrrrrrr\n",
      "rrrrrrrrrrrrrrrrrrrrrrrrrrrrrrrrrrrrrrrrrrrrrrrrrrrrrrr\n",
      "rrrrrrrrrrrrrrrrrrrrrrrrrrrrrrrrrrrrrrrrrrrrrrrrrrrrrrrrrrrrrrrr\n",
      "rrrrrrrrrrrrrrrrrrrrrrrrrrrrrrrrrrrrrrrrrrrrrrrrrrrrrrrrrrrrrrrrrrrrrr\n"
     ]
    }
   ],
   "source": [
    "#10\n",
    "fh=open(r\"C:\\Users\\mered\\OneDrive\\Desktop\\vdsv.txt\",\"a\")\n",
    "fi=open(r\"C:\\Users\\mered\\OneDrive\\Desktop\\vdsv - Copy.txt\",\"r\")\n",
    "for i in fi:\n",
    "    fh.write(i)\n",
    "fh.close()\n",
    "fh=open(r\"C:\\Users\\mered\\OneDrive\\Desktop\\vdsv.txt\",\"r\")\n",
    "print(fh.read())"
   ]
  },
  {
   "cell_type": "code",
   "execution_count": 1,
   "metadata": {},
   "outputs": [
    {
     "name": "stdout",
     "output_type": "stream",
     "text": [
      "Enter file nameC:\\Users\\mered\\OneDrive\\Desktop\\from.txt\n",
      "8 lines are starting with from:\n"
     ]
    }
   ],
   "source": [
    "#try catch\n",
    "try:\n",
    "    f_name=input(\"Enter file name\")\n",
    "    fh=open(f_name,'r')\n",
    "    count=0\n",
    "    for line in fh:\n",
    "        if line.startswith('from:'):\n",
    "            count=count+1\n",
    "    print(count,\"lines are starting with from:\")\n",
    "except:\n",
    "    print(\"file not found\")\n",
    "    exit()"
   ]
  },
  {
   "cell_type": "code",
   "execution_count": 2,
   "metadata": {},
   "outputs": [
    {
     "name": "stdout",
     "output_type": "stream",
     "text": [
      "Enter file namejsjsjsdjsd\n",
      "file not found\n"
     ]
    }
   ],
   "source": [
    "#try catch\n",
    "try:\n",
    "    f_name=input(\"Enter file name\")\n",
    "    fh=open(f_name,'r')\n",
    "    count=0\n",
    "    for line in fh:\n",
    "        if line.startswith('from:'):\n",
    "            count=count+1\n",
    "    print(count,\"lines are starting with from:\")\n",
    "except:\n",
    "    print(\"file not found\")\n",
    "    exit()"
   ]
  },
  {
   "cell_type": "code",
   "execution_count": null,
   "metadata": {},
   "outputs": [],
   "source": []
  }
 ],
 "metadata": {
  "kernelspec": {
   "display_name": "Python 3",
   "language": "python",
   "name": "python3"
  },
  "language_info": {
   "codemirror_mode": {
    "name": "ipython",
    "version": 3
   },
   "file_extension": ".py",
   "mimetype": "text/x-python",
   "name": "python",
   "nbconvert_exporter": "python",
   "pygments_lexer": "ipython3",
   "version": "3.8.3"
  }
 },
 "nbformat": 4,
 "nbformat_minor": 4
}
